{
 "cells": [
  {
   "cell_type": "code",
   "execution_count": 1,
   "metadata": {},
   "outputs": [],
   "source": [
    "import pandas as pd\n",
    "import numpy as np\n",
    "import matplotlib.pyplot as plt\n"
   ]
  },
  {
   "cell_type": "code",
   "execution_count": 2,
   "metadata": {},
   "outputs": [],
   "source": [
    "#importing the Dataset \n",
    "from tensorflow.keras.datasets import fashion_mnist\n",
    "(x_train,y_train),(x_test,y_test) = fashion_mnist.load_data()\n"
   ]
  },
  {
   "cell_type": "code",
   "execution_count": 3,
   "metadata": {},
   "outputs": [],
   "source": [
    "#Preprocessing the data\n",
    "x_train = x_train/255\n",
    "x_test =  x_test/255\n",
    "\n",
    "x_train = x_train.reshape(60000,28,28,1)\n",
    "x_test  = x_test.reshape(10000,28,28,1)\n"
   ]
  },
  {
   "cell_type": "code",
   "execution_count": 4,
   "metadata": {},
   "outputs": [],
   "source": [
    "# one hot encoding the categorical features \n",
    "from tensorflow.keras.utils import to_categorical\n",
    "y_cat_train = to_categorical(y_train,num_classes=10)\n",
    "y_cat_test = to_categorical(y_test,num_classes=10)\n"
   ]
  },
  {
   "cell_type": "code",
   "execution_count": 5,
   "metadata": {},
   "outputs": [
    {
     "data": {
      "text/plain": [
       "<matplotlib.image.AxesImage at 0x2b733b7c888>"
      ]
     },
     "execution_count": 5,
     "metadata": {},
     "output_type": "execute_result"
    },
    {
     "data": {
      "image/png": "[encoded data removed]",
      "text/plain": [
       "<Figure size 432x288 with 1 Axes>"
      ]
     },
     "metadata": {
      "needs_background": "light"
     },
     "output_type": "display_data"
    }
   ],
   "source": [
    "# sample image from train set\n",
    "plt.imshow(x_train[15].reshape(28,28))"
   ]
  },
  {
   "cell_type": "code",
   "execution_count": 10,
   "metadata": {},
   "outputs": [],
   "source": [
    "#creating the CNN model\n",
    "from tensorflow.keras.models import Sequential\n",
    "from tensorflow.keras.layers import Dense,Conv2D,MaxPooling2D,Flatten\n",
    "model = Sequential()\n",
    "model.add(Conv2D(filters=32,kernel_size=(3,3),activation='relu',input_shape=(28,28,1)))\n",
    "model.add(Conv2D(filters=64,kernel_size=(2,2),activation='relu',input_shape=(28,28,1)))\n",
    "model.add(Conv2D(filters=64,kernel_size=(1,1),activation='relu',input_shape=(28,28,1)))\n",
    "model.add(MaxPooling2D(pool_size=(2,2)))\n",
    "model.add(Flatten())\n",
    "model.add(Dense(units=128,activation='relu'))\n",
    "model.add(Dense(units=10,activation='softmax'))\n",
    "model.compile(optimizer='adam',loss='categorical_crossentropy',metrics=['accuracy'])\n"
   ]
  },
  {
   "cell_type": "code",
   "execution_count": 11,
   "metadata": {},
   "outputs": [
    {
     "name": "stdout",
     "output_type": "stream",
     "text": [
      "Train on 60000 samples\n",
      "Epoch 1/20\n",
      "60000/60000 [==============================] - 53s 885us/sample - loss: 0.3643 - accuracy: 0.8685\n",
      "Epoch 2/20\n",
      "60000/60000 [==============================] - 52s 861us/sample - loss: 0.2327 - accuracy: 0.9143\n",
      "Epoch 3/20\n",
      "60000/60000 [==============================] - 52s 872us/sample - loss: 0.1820 - accuracy: 0.9330\n",
      "Epoch 4/20\n",
      "60000/60000 [==============================] - 52s 862us/sample - loss: 0.1404 - accuracy: 0.9484\n",
      "Epoch 5/20\n",
      "60000/60000 [==============================] - 50s 839us/sample - loss: 0.1029 - accuracy: 0.9613\n",
      "Epoch 6/20\n",
      "60000/60000 [==============================] - 51s 847us/sample - loss: 0.0764 - accuracy: 0.9720\n",
      "Epoch 7/20\n",
      "60000/60000 [==============================] - 51s 848us/sample - loss: 0.0557 - accuracy: 0.9790\n",
      "Epoch 8/20\n",
      "60000/60000 [==============================] - 51s 847us/sample - loss: 0.0438 - accuracy: 0.9844\n",
      "Epoch 9/20\n",
      "60000/60000 [==============================] - 50s 841us/sample - loss: 0.0349 - accuracy: 0.9868\n",
      "Epoch 10/20\n",
      "60000/60000 [==============================] - 51s 848us/sample - loss: 0.0284 - accuracy: 0.9897\n",
      "Epoch 11/20\n",
      "60000/60000 [==============================] - 51s 849us/sample - loss: 0.0252 - accuracy: 0.9909\n",
      "Epoch 12/20\n",
      "60000/60000 [==============================] - 51s 847us/sample - loss: 0.0222 - accuracy: 0.9922\n",
      "Epoch 13/20\n",
      "60000/60000 [==============================] - 51s 850us/sample - loss: 0.0211 - accuracy: 0.9924\n",
      "Epoch 14/20\n",
      "60000/60000 [==============================] - 51s 852us/sample - loss: 0.0191 - accuracy: 0.9932\n",
      "Epoch 15/20\n",
      "60000/60000 [==============================] - 53s 886us/sample - loss: 0.0193 - accuracy: 0.9934\n",
      "Epoch 16/20\n",
      "60000/60000 [==============================] - 52s 869us/sample - loss: 0.0153 - accuracy: 0.9948\n",
      "Epoch 17/20\n",
      "60000/60000 [==============================] - 53s 886us/sample - loss: 0.0163 - accuracy: 0.9944\n",
      "Epoch 18/20\n",
      "60000/60000 [==============================] - 53s 891us/sample - loss: 0.0152 - accuracy: 0.9946\n",
      "Epoch 19/20\n",
      "60000/60000 [==============================] - 51s 844us/sample - loss: 0.0162 - accuracy: 0.9947\n",
      "Epoch 20/20\n",
      "60000/60000 [==============================] - 53s 890us/sample - loss: 0.0141 - accuracy: 0.9950\n"
     ]
    },
    {
     "data": {
      "text/plain": [
       "<tensorflow.python.keras.callbacks.History at 0x2b7afe52248>"
      ]
     },
     "execution_count": 11,
     "metadata": {},
     "output_type": "execute_result"
    }
   ],
   "source": [
    "#Fitting the CNN model to the train set \n",
    "model.fit(x=x_train,y=y_cat_train,epochs=20,verbose=1)\n"
   ]
  },
  {
   "cell_type": "code",
   "execution_count": 13,
   "metadata": {},
   "outputs": [
    {
     "data": {
      "text/html": [
       "<div>\n",
       "<style scoped>\n",
       "    .dataframe tbody tr th:only-of-type {\n",
       "        vertical-align: middle;\n",
       "    }\n",
       "\n",
       "    .dataframe tbody tr th {\n",
       "        vertical-align: top;\n",
       "    }\n",
       "\n",
       "    .dataframe thead th {\n",
       "        text-align: right;\n",
       "    }\n",
       "</style>\n",
       "<table border=\"1\" class=\"dataframe\">\n",
       "  <thead>\n",
       "    <tr style=\"text-align: right;\">\n",
       "      <th></th>\n",
       "      <th>loss</th>\n",
       "      <th>accuracy</th>\n",
       "    </tr>\n",
       "  </thead>\n",
       "  <tbody>\n",
       "    <tr>\n",
       "      <th>0</th>\n",
       "      <td>0.364279</td>\n",
       "      <td>0.868467</td>\n",
       "    </tr>\n",
       "    <tr>\n",
       "      <th>1</th>\n",
       "      <td>0.232744</td>\n",
       "      <td>0.914250</td>\n",
       "    </tr>\n",
       "    <tr>\n",
       "      <th>2</th>\n",
       "      <td>0.181962</td>\n",
       "      <td>0.933033</td>\n",
       "    </tr>\n",
       "    <tr>\n",
       "      <th>3</th>\n",
       "      <td>0.140448</td>\n",
       "      <td>0.948367</td>\n",
       "    </tr>\n",
       "    <tr>\n",
       "      <th>4</th>\n",
       "      <td>0.102857</td>\n",
       "      <td>0.961317</td>\n",
       "    </tr>\n",
       "    <tr>\n",
       "      <th>5</th>\n",
       "      <td>0.076387</td>\n",
       "      <td>0.971983</td>\n",
       "    </tr>\n",
       "    <tr>\n",
       "      <th>6</th>\n",
       "      <td>0.055748</td>\n",
       "      <td>0.978950</td>\n",
       "    </tr>\n",
       "    <tr>\n",
       "      <th>7</th>\n",
       "      <td>0.043795</td>\n",
       "      <td>0.984400</td>\n",
       "    </tr>\n",
       "    <tr>\n",
       "      <th>8</th>\n",
       "      <td>0.034870</td>\n",
       "      <td>0.986833</td>\n",
       "    </tr>\n",
       "    <tr>\n",
       "      <th>9</th>\n",
       "      <td>0.028355</td>\n",
       "      <td>0.989717</td>\n",
       "    </tr>\n",
       "    <tr>\n",
       "      <th>10</th>\n",
       "      <td>0.025201</td>\n",
       "      <td>0.990883</td>\n",
       "    </tr>\n",
       "    <tr>\n",
       "      <th>11</th>\n",
       "      <td>0.022235</td>\n",
       "      <td>0.992183</td>\n",
       "    </tr>\n",
       "    <tr>\n",
       "      <th>12</th>\n",
       "      <td>0.021100</td>\n",
       "      <td>0.992417</td>\n",
       "    </tr>\n",
       "    <tr>\n",
       "      <th>13</th>\n",
       "      <td>0.019106</td>\n",
       "      <td>0.993217</td>\n",
       "    </tr>\n",
       "    <tr>\n",
       "      <th>14</th>\n",
       "      <td>0.019332</td>\n",
       "      <td>0.993417</td>\n",
       "    </tr>\n",
       "    <tr>\n",
       "      <th>15</th>\n",
       "      <td>0.015321</td>\n",
       "      <td>0.994750</td>\n",
       "    </tr>\n",
       "    <tr>\n",
       "      <th>16</th>\n",
       "      <td>0.016349</td>\n",
       "      <td>0.994417</td>\n",
       "    </tr>\n",
       "    <tr>\n",
       "      <th>17</th>\n",
       "      <td>0.015170</td>\n",
       "      <td>0.994567</td>\n",
       "    </tr>\n",
       "    <tr>\n",
       "      <th>18</th>\n",
       "      <td>0.016204</td>\n",
       "      <td>0.994733</td>\n",
       "    </tr>\n",
       "    <tr>\n",
       "      <th>19</th>\n",
       "      <td>0.014067</td>\n",
       "      <td>0.995033</td>\n",
       "    </tr>\n",
       "  </tbody>\n",
       "</table>\n",
       "</div>"
      ],
      "text/plain": [
       "        loss  accuracy\n",
       "0   0.364279  0.868467\n",
       "1   0.232744  0.914250\n",
       "2   0.181962  0.933033\n",
       "3   0.140448  0.948367\n",
       "4   0.102857  0.961317\n",
       "5   0.076387  0.971983\n",
       "6   0.055748  0.978950\n",
       "7   0.043795  0.984400\n",
       "8   0.034870  0.986833\n",
       "9   0.028355  0.989717\n",
       "10  0.025201  0.990883\n",
       "11  0.022235  0.992183\n",
       "12  0.021100  0.992417\n",
       "13  0.019106  0.993217\n",
       "14  0.019332  0.993417\n",
       "15  0.015321  0.994750\n",
       "16  0.016349  0.994417\n",
       "17  0.015170  0.994567\n",
       "18  0.016204  0.994733\n",
       "19  0.014067  0.995033"
      ]
     },
     "execution_count": 13,
     "metadata": {},
     "output_type": "execute_result"
    }
   ],
   "source": [
    "results = pd.DataFrame(model.history.history)\n",
    "results\n"
   ]
  },
  {
   "cell_type": "code",
   "execution_count": 15,
   "metadata": {},
   "outputs": [
    {
     "data": {
      "text/plain": [
       "<matplotlib.axes._subplots.AxesSubplot at 0x2b7c6543708>"
      ]
     },
     "execution_count": 15,
     "metadata": {},
     "output_type": "execute_result"
    },
    {
     "data": {
      "image/png": "[encoded data removed]",
      "text/plain": [
       "<Figure size 432x288 with 1 Axes>"
      ]
     },
     "metadata": {
      "needs_background": "light"
     },
     "output_type": "display_data"
    }
   ],
   "source": [
    "results.plot()\n"
   ]
  },
  {
   "cell_type": "code",
   "execution_count": 16,
   "metadata": {},
   "outputs": [],
   "source": [
    "#Making prediction on x_test and storing the predictions and true values in a csv file \n",
    "predictions = model.predict_classes(x_test)\n",
    "\n",
    "true_values = list(y_test)\n",
    "predictions = list(predictions)\n",
    "sub = pd.DataFrame({'True Values': true_values, 'Predictions': predictions})\n",
    "sub.to_csv('./Predictions_VS_True-Values_MNIST.csv', index=False)"
   ]
  },
  {
   "cell_type": "code",
   "execution_count": 19,
   "metadata": {},
   "outputs": [
    {
     "data": {
      "text/plain": [
       "array([[862,   1,  23,   8,   3,   1,  99,   0,   3,   0],\n",
       "       [  4, 983,   0,   7,   2,   0,   1,   1,   2,   0],\n",
       "       [ 21,   1, 888,   7,  36,   0,  45,   0,   2,   0],\n",
       "       [ 28,   4,  12, 897,  33,   0,  20,   0,   3,   3],\n",
       "       [  5,   1,  60,  17, 870,   0,  46,   0,   1,   0],\n",
       "       [  0,   0,   0,   0,   0, 985,   0,  11,   0,   4],\n",
       "       [ 93,   1,  43,  16,  65,   0, 774,   0,   8,   0],\n",
       "       [  0,   0,   0,   0,   0,   4,   0, 985,   0,  11],\n",
       "       [  5,   2,   1,   4,   3,   2,   2,   2, 977,   2],\n",
       "       [  0,   0,   1,   0,   0,   5,   0,  32,   1, 961]], dtype=int64)"
      ]
     },
     "execution_count": 19,
     "metadata": {},
     "output_type": "execute_result"
    }
   ],
   "source": [
    "from sklearn.metrics import confusion_matrix\n",
    "con_mat = confusion_matrix(y_test,predcictions)\n",
    "con_mat"
   ]
  },
  {
   "cell_type": "code",
   "execution_count": null,
   "metadata": {},
   "outputs": [],
   "source": []
  }
 ],
 "metadata": {
  "kernelspec": {
   "display_name": "Python 3.7 (tensorflow)",
   "language": "python",
   "name": "tensorflow"
  },
  "language_info": {
   "codemirror_mode": {
    "name": "ipython",
    "version": 3
   },
   "file_extension": ".py",
   "mimetype": "text/x-python",
   "name": "python",
   "nbconvert_exporter": "python",
   "pygments_lexer": "ipython3",
   "version": "3.7.7"
  }
 },
 "nbformat": 4,
 "nbformat_minor": 4
}
