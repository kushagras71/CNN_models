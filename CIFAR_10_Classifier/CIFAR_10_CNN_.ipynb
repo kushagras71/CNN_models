{
  "nbformat": 4,
  "nbformat_minor": 0,
  "metadata": {
    "colab": {
      "name": "CIFAR_10_CNN_.ipynb",
      "provenance": []
    },
    "kernelspec": {
      "name": "python3",
      "display_name": "Python 3"
    },
    "accelerator": "GPU"
  },
  "cells": [
    {
      "cell_type": "markdown",
      "metadata": {
        "id": "fMyIo-z6kaIe",
        "colab_type": "text"
      },
      "source": [
        "## **CIFAR 10**\n",
        "\n",
        "The dataset consists of 60,000 random images belonging to 10 classes.\n",
        "\n",
        "The split is : 50,000 Training Images and 10,000 Test Images"
      ]
    },
    {
      "cell_type": "code",
      "metadata": {
        "id": "kxXo_m00JJlr",
        "colab_type": "code",
        "colab": {}
      },
      "source": [
        "import pandas as pd\n",
        "import numpy as np\n",
        "import matplotlib.pyplot as plt\n",
        "\n",
        "# =============================================================================\n",
        "# Importing the dataset\n",
        "# =============================================================================\n",
        "from tensorflow.keras.datasets import cifar10\n",
        "(x_train,y_train),(x_test,y_test) = cifar10.load_data()"
      ],
      "execution_count": 0,
      "outputs": []
    },
    {
      "cell_type": "code",
      "metadata": {
        "id": "3FQG0ll9JVuv",
        "colab_type": "code",
        "colab": {}
      },
      "source": [
        "# =============================================================================\n",
        "# Preprocessing the data\n",
        "# =============================================================================\n",
        "#Scaling the data\n",
        "x_train = x_train/255\n",
        "x_test  = x_test/255\n",
        "# =============================================================================\n",
        "# One hot Encoding \n",
        "# =============================================================================\n",
        "from tensorflow.keras.utils import to_categorical\n",
        "y_cat_train = to_categorical(y_train,num_classes=10)\n",
        "y_cat_test  = to_categorical(y_test,num_classes=10)\n",
        "\n",
        "input_shape = (32,32,3)\n"
      ],
      "execution_count": 0,
      "outputs": []
    },
    {
      "cell_type": "code",
      "metadata": {
        "id": "FGtb0yGXJejD",
        "colab_type": "code",
        "outputId": "5b573dbb-8e5e-48fd-9ff4-d496e0dff52b",
        "colab": {
          "base_uri": "https://localhost:8080/",
          "height": 622
        }
      },
      "source": [
        "# =============================================================================\n",
        "# Creating the model\n",
        "# =============================================================================\n",
        "from tensorflow.keras.models import Sequential\n",
        "from tensorflow.keras.layers import Conv2D,Dense,MaxPooling2D,Flatten,Dropout\n",
        "from tensorflow.keras.layers import BatchNormalization\n",
        "from tensorflow.keras.layers import ELU,PReLU\n",
        "from tensorflow.keras.callbacks import EarlyStopping\n",
        "\n",
        "# =============================================================================\n",
        "# ELU\n",
        "# =============================================================================\n",
        "model = Sequential()\n",
        "model.add(Conv2D(filters=64,kernel_size=(3,3),activation=ELU(),input_shape = input_shape))\n",
        "model.add(Conv2D(filters=64,kernel_size=(3,3),activation=ELU(),input_shape = input_shape ))\n",
        "# model.add(Conv2D(filters=128,kernel_size=(2,2),activation=ELU(),input_shape = input_shape ))\n",
        "model.add(MaxPooling2D(pool_size=(2,2)))\n",
        "model.add(Conv2D(filters=32,kernel_size=(2,2),activation=ELU(),input_shape = input_shape ))\n",
        "model.add(Conv2D(filters=32,kernel_size=(2,2),activation=ELU(),input_shape = input_shape ))\n",
        "# model.add(Conv2D(filters=32,kernel_size=(1,1),activation=ELU(),input_shape = input_shape ))\n",
        "model.add(MaxPooling2D(pool_size=(2,2)))\n",
        "model.add(Flatten())\n",
        "# model.add(Dense(units=128,activation=ELU()))\n",
        "# model.add(Dropout(0.5))\n",
        "model.add(Dense(units=64,activation='relu'))\n",
        "model.add(Dropout(0.4))\n",
        "model.add(Dense(units=64,activation='relu'))\n",
        "model.add(Dropout(0.4))\n",
        "model.add(Dense(units=32,activation='relu'))\n",
        "model.add(Dropout(0.4))\n",
        "model.add(Dense(units=10,activation='softmax'))\n",
        "model.compile(optimizer='adam',loss='categorical_crossentropy',metrics=['accuracy'])\n",
        "model.summary()\n",
        "early_stop = EarlyStopping(monitor='val_loss',patience=5)\n"
      ],
      "execution_count": 3,
      "outputs": [
        {
          "output_type": "stream",
          "text": [
            "Model: \"sequential\"\n",
            "_________________________________________________________________\n",
            "Layer (type)                 Output Shape              Param #   \n",
            "=================================================================\n",
            "conv2d (Conv2D)              (None, 30, 30, 64)        1792      \n",
            "_________________________________________________________________\n",
            "conv2d_1 (Conv2D)            (None, 28, 28, 64)        36928     \n",
            "_________________________________________________________________\n",
            "max_pooling2d (MaxPooling2D) (None, 14, 14, 64)        0         \n",
            "_________________________________________________________________\n",
            "conv2d_2 (Conv2D)            (None, 13, 13, 32)        8224      \n",
            "_________________________________________________________________\n",
            "conv2d_3 (Conv2D)            (None, 12, 12, 32)        4128      \n",
            "_________________________________________________________________\n",
            "max_pooling2d_1 (MaxPooling2 (None, 6, 6, 32)          0         \n",
            "_________________________________________________________________\n",
            "flatten (Flatten)            (None, 1152)              0         \n",
            "_________________________________________________________________\n",
            "dense (Dense)                (None, 64)                73792     \n",
            "_________________________________________________________________\n",
            "dropout (Dropout)            (None, 64)                0         \n",
            "_________________________________________________________________\n",
            "dense_1 (Dense)              (None, 64)                4160      \n",
            "_________________________________________________________________\n",
            "dropout_1 (Dropout)          (None, 64)                0         \n",
            "_________________________________________________________________\n",
            "dense_2 (Dense)              (None, 32)                2080      \n",
            "_________________________________________________________________\n",
            "dropout_2 (Dropout)          (None, 32)                0         \n",
            "_________________________________________________________________\n",
            "dense_3 (Dense)              (None, 10)                330       \n",
            "=================================================================\n",
            "Total params: 131,434\n",
            "Trainable params: 131,434\n",
            "Non-trainable params: 0\n",
            "_________________________________________________________________\n"
          ],
          "name": "stdout"
        }
      ]
    },
    {
      "cell_type": "code",
      "metadata": {
        "id": "6M-_YB4WJwJd",
        "colab_type": "code",
        "outputId": "d0372b81-ab3f-4478-969c-475e10f74b18",
        "colab": {
          "base_uri": "https://localhost:8080/",
          "height": 672
        }
      },
      "source": [
        "# Fitting the model to the training set and then validating it on the test set\n",
        "model.fit(x=x_train,y=y_cat_train,epochs=70,validation_data=(x_test,y_cat_test),\n",
        "          callbacks=[early_stop])"
      ],
      "execution_count": 4,
      "outputs": [
        {
          "output_type": "stream",
          "text": [
            "Epoch 1/70\n",
            "1563/1563 [==============================] - 8s 5ms/step - loss: 1.9473 - accuracy: 0.2621 - val_loss: 1.4918 - val_accuracy: 0.4600\n",
            "Epoch 2/70\n",
            "1563/1563 [==============================] - 8s 5ms/step - loss: 1.5738 - accuracy: 0.4264 - val_loss: 1.3568 - val_accuracy: 0.5192\n",
            "Epoch 3/70\n",
            "1563/1563 [==============================] - 8s 5ms/step - loss: 1.4223 - accuracy: 0.4930 - val_loss: 1.2244 - val_accuracy: 0.5834\n",
            "Epoch 4/70\n",
            "1563/1563 [==============================] - 8s 5ms/step - loss: 1.3194 - accuracy: 0.5384 - val_loss: 1.0999 - val_accuracy: 0.6283\n",
            "Epoch 5/70\n",
            "1563/1563 [==============================] - 8s 5ms/step - loss: 1.2524 - accuracy: 0.5698 - val_loss: 1.0517 - val_accuracy: 0.6429\n",
            "Epoch 6/70\n",
            "1563/1563 [==============================] - 8s 5ms/step - loss: 1.1882 - accuracy: 0.5968 - val_loss: 1.0051 - val_accuracy: 0.6640\n",
            "Epoch 7/70\n",
            "1563/1563 [==============================] - 8s 5ms/step - loss: 1.1384 - accuracy: 0.6171 - val_loss: 0.9965 - val_accuracy: 0.6658\n",
            "Epoch 8/70\n",
            "1563/1563 [==============================] - 8s 5ms/step - loss: 1.1046 - accuracy: 0.6313 - val_loss: 0.9612 - val_accuracy: 0.6795\n",
            "Epoch 9/70\n",
            "1563/1563 [==============================] - 8s 5ms/step - loss: 1.0660 - accuracy: 0.6454 - val_loss: 0.9781 - val_accuracy: 0.6689\n",
            "Epoch 10/70\n",
            "1563/1563 [==============================] - 8s 5ms/step - loss: 1.0504 - accuracy: 0.6506 - val_loss: 0.9577 - val_accuracy: 0.6853\n",
            "Epoch 11/70\n",
            "1563/1563 [==============================] - 8s 5ms/step - loss: 1.0312 - accuracy: 0.6591 - val_loss: 0.9353 - val_accuracy: 0.6835\n",
            "Epoch 12/70\n",
            "1563/1563 [==============================] - 8s 5ms/step - loss: 1.0068 - accuracy: 0.6647 - val_loss: 0.9333 - val_accuracy: 0.6915\n",
            "Epoch 13/70\n",
            "1563/1563 [==============================] - 8s 5ms/step - loss: 0.9910 - accuracy: 0.6754 - val_loss: 0.9102 - val_accuracy: 0.7040\n",
            "Epoch 14/70\n",
            "1563/1563 [==============================] - 8s 5ms/step - loss: 0.9760 - accuracy: 0.6785 - val_loss: 0.8909 - val_accuracy: 0.6996\n",
            "Epoch 15/70\n",
            "1563/1563 [==============================] - 8s 5ms/step - loss: 0.9605 - accuracy: 0.6826 - val_loss: 0.9207 - val_accuracy: 0.6998\n",
            "Epoch 16/70\n",
            "1563/1563 [==============================] - 8s 5ms/step - loss: 0.9465 - accuracy: 0.6893 - val_loss: 0.9028 - val_accuracy: 0.7097\n",
            "Epoch 17/70\n",
            "1563/1563 [==============================] - 8s 5ms/step - loss: 0.9292 - accuracy: 0.6934 - val_loss: 0.9145 - val_accuracy: 0.6905\n",
            "Epoch 18/70\n",
            "1563/1563 [==============================] - 8s 5ms/step - loss: 0.9221 - accuracy: 0.6957 - val_loss: 0.8920 - val_accuracy: 0.7132\n",
            "Epoch 19/70\n",
            "1563/1563 [==============================] - 8s 5ms/step - loss: 0.9154 - accuracy: 0.6972 - val_loss: 0.8951 - val_accuracy: 0.7105\n"
          ],
          "name": "stdout"
        },
        {
          "output_type": "execute_result",
          "data": {
            "text/plain": [
              "<tensorflow.python.keras.callbacks.History at 0x7f2f086226a0>"
            ]
          },
          "metadata": {
            "tags": []
          },
          "execution_count": 4
        }
      ]
    },
    {
      "cell_type": "markdown",
      "metadata": {
        "id": "6qQKamgBlfku",
        "colab_type": "text"
      },
      "source": [
        "Saving the results after training model.\n"
      ]
    },
    {
      "cell_type": "code",
      "metadata": {
        "id": "MR_04i1eJyYL",
        "colab_type": "code",
        "colab": {}
      },
      "source": [
        "results = pd.DataFrame(model.history.history)"
      ],
      "execution_count": 0,
      "outputs": []
    },
    {
      "cell_type": "markdown",
      "metadata": {
        "id": "LasvbLQMl8RP",
        "colab_type": "text"
      },
      "source": [
        "Looking at the graph we can be sure that the model is not overfitting and it was able to achieve a good convergence with an accuracy of 70% "
      ]
    },
    {
      "cell_type": "code",
      "metadata": {
        "id": "0ydXiFhzLEde",
        "colab_type": "code",
        "outputId": "37f3130c-16e1-4883-fc54-b3424596aff3",
        "colab": {
          "base_uri": "https://localhost:8080/",
          "height": 286
        }
      },
      "source": [
        "results[['loss','val_loss']].plot()"
      ],
      "execution_count": 6,
      "outputs": [
        {
          "output_type": "execute_result",
          "data": {
            "text/plain": [
              "<matplotlib.axes._subplots.AxesSubplot at 0x7f2f08280860>"
            ]
          },
          "metadata": {
            "tags": []
          },
          "execution_count": 6
        },
        {
          "output_type": "display_data",
          "data": {
            "image/png": "[encoded data removed]",
            "text/plain": [
              "<Figure size 432x288 with 1 Axes>"
            ]
          },
          "metadata": {
            "tags": [],
            "needs_background": "light"
          }
        }
      ]
    },
    {
      "cell_type": "code",
      "metadata": {
        "id": "w6yrlw3hLJ9F",
        "colab_type": "code",
        "outputId": "13e5d074-e8be-44b7-8f27-1e97a2ca9394",
        "colab": {
          "base_uri": "https://localhost:8080/",
          "height": 282
        }
      },
      "source": [
        "results[['accuracy','val_accuracy']].plot()"
      ],
      "execution_count": 7,
      "outputs": [
        {
          "output_type": "execute_result",
          "data": {
            "text/plain": [
              "<matplotlib.axes._subplots.AxesSubplot at 0x7f2f08310588>"
            ]
          },
          "metadata": {
            "tags": []
          },
          "execution_count": 7
        },
        {
          "output_type": "display_data",
          "data": {
            "image/png": "[encoded data removed]",
            "text/plain": [
              "<Figure size 432x288 with 1 Axes>"
            ]
          },
          "metadata": {
            "tags": [],
            "needs_background": "light"
          }
        }
      ]
    },
    {
      "cell_type": "markdown",
      "metadata": {
        "id": "zKvK5sc_mc00",
        "colab_type": "text"
      },
      "source": [
        "Saving the model for making future prediction and not training the model all over again.\n"
      ]
    },
    {
      "cell_type": "code",
      "metadata": {
        "id": "t6SGLLTzLPaP",
        "colab_type": "code",
        "colab": {}
      },
      "source": [
        "model.save('CIFAR_10_CNN.h5')"
      ],
      "execution_count": 0,
      "outputs": []
    },
    {
      "cell_type": "markdown",
      "metadata": {
        "id": "Hr7rdiz7m7tr",
        "colab_type": "text"
      },
      "source": [
        "Making predictions on the test set and saving them along with the true values of the classes for the images in test set.\n",
        "\n",
        "Both the True class and the Predicted class is stored in a csv file."
      ]
    },
    {
      "cell_type": "code",
      "metadata": {
        "id": "W34xB0S1hdrB",
        "colab_type": "code",
        "colab": {
          "base_uri": "https://localhost:8080/",
          "height": 104
        },
        "outputId": "a5b1300a-ec33-43c9-966f-490afdb1bc57"
      },
      "source": [
        "y_pred = model.predict_classes(x_test,verbose=1)\n",
        "true_value = list(y_test)\n",
        "predict_value = list(y_pred)\n",
        "comparison = pd.DataFrame({'True Value':true_value,'Predicted Value':predict_value})\n",
        "comparison.to_csv('Predicted_VS_True_Classes_CIFAR_CNN.h5')\n"
      ],
      "execution_count": 9,
      "outputs": [
        {
          "output_type": "stream",
          "text": [
            "WARNING:tensorflow:From <ipython-input-9-97e927456a2d>:1: Sequential.predict_classes (from tensorflow.python.keras.engine.sequential) is deprecated and will be removed after 2021-01-01.\n",
            "Instructions for updating:\n",
            "Please use instead:* `np.argmax(model.predict(x), axis=-1)`,   if your model does multi-class classification   (e.g. if it uses a `softmax` last-layer activation).* `(model.predict(x) > 0.5).astype(\"int32\")`,   if your model does binary classification   (e.g. if it uses a `sigmoid` last-layer activation).\n",
            "313/313 [==============================] - 1s 2ms/step\n"
          ],
          "name": "stdout"
        }
      ]
    },
    {
      "cell_type": "markdown",
      "metadata": {
        "id": "dyi-Lmwjnco0",
        "colab_type": "text"
      },
      "source": [
        "Using Confusion Matrix to get a better performance overview of the model."
      ]
    },
    {
      "cell_type": "code",
      "metadata": {
        "id": "GgJNUiUcix6H",
        "colab_type": "code",
        "colab": {}
      },
      "source": [
        "from sklearn.metrics import confusion_matrix\n",
        "con_mat = confusion_matrix(y_test,y_pred)"
      ],
      "execution_count": 0,
      "outputs": []
    },
    {
      "cell_type": "code",
      "metadata": {
        "id": "u2OQfDBIjU-I",
        "colab_type": "code",
        "colab": {
          "base_uri": "https://localhost:8080/",
          "height": 185
        },
        "outputId": "9b29a89b-72ed-45dc-e7f0-69610a9d41b3"
      },
      "source": [
        "print(con_mat)"
      ],
      "execution_count": 11,
      "outputs": [
        {
          "output_type": "stream",
          "text": [
            "[[812  12  25  30  16   2   4   6  53  40]\n",
            " [ 26 831   1  17   1   4   3   0  20  97]\n",
            " [112   4 474  96 128  67  54  38  13  14]\n",
            " [ 31  12  57 539  68 149  66  48  11  19]\n",
            " [ 33   5  36  72 683  10  33 116   9   3]\n",
            " [ 11   4  41 253  48 544  17  70   5   7]\n",
            " [  8   3  32  96  46   5 787   7  10   6]\n",
            " [ 18   3  23  57  36  53   7 787   3  13]\n",
            " [102  24   4  25   4   1   1   6 801  32]\n",
            " [ 36  57   3  13   1   1   1  12  29 847]]\n"
          ],
          "name": "stdout"
        }
      ]
    },
    {
      "cell_type": "code",
      "metadata": {
        "id": "h2V-QDrRjYRb",
        "colab_type": "code",
        "colab": {}
      },
      "source": [
        ""
      ],
      "execution_count": 0,
      "outputs": []
    }
  ]
}